{
 "cells": [
  {
   "cell_type": "markdown",
   "metadata": {},
   "source": [
    "# Модуль 3: Анализ результатов разметки\n",
    "\n",
    "**Цель:** Проанализировать разметку, полученную от аннотатора,\n",
    "очистить данные от контрольных примеров и создать финальный датасет\n",
    "с \"истинной\" меткой `is_happy` для использования в следующих модулях."
   ]
  },
  {
   "cell_type": "code",
   "execution_count": 1,
   "metadata": {},
   "outputs": [],
   "source": [
    "import pandas as pd\n",
    "import numpy as np\n",
    "import matplotlib.pyplot as plt\n",
    "import seaborn as sns\n",
    "import os\n",
    "\n",
    "pd.set_option('display.max_rows', 100)\n",
    "pd.set_option('display.max_columns', 100)\n",
    "sns.set(style=\"whitegrid\")\n",
    "\n",
    "INPUT_CLEAN_DATA_PATH = '../data/clean_median_imputed_clip.csv'\n",
    "LABELED_DATA_PATH = '../data/data_labeled.csv'\n",
    "FINAL_LABELED_DATA_PATH = '../data/final_labeled.csv'\n",
    "FIGURES_DIR = 'figures'\n",
    "\n",
    "if not os.path.exists('../data'):\n",
    "    os.makedirs('../data')\n",
    "if not os.path.exists(FIGURES_DIR):\n",
    "    os.makedirs(FIGURES_DIR)"
   ]
  },
  {
   "cell_type": "markdown",
   "metadata": {},
   "source": [
    "## Шаг 1: Загрузка данных\n",
    "\n",
    "Загружаем:\n",
    "1. Очищенный датасет до разметки (`clean_median_imputed_clip.csv`) - нужен для получения `Ladder score` и генерации \"истинной\" метки.\n",
    "2. Размеченный аннотатором датасет (`data_labeled.csv`)."
   ]
  },
  {
   "cell_type": "code",
   "execution_count": 2,
   "metadata": {},
   "outputs": [
    {
     "name": "stdout",
     "output_type": "stream",
     "text": [
      "Загружен исходный очищенный датасет: ../data/clean_median_imputed_clip.csv, размер: (143, 6)\n",
      "Загружен размеченный аннотатором файл: ../data/data_labeled.csv, размер: (153, 6)\n"
     ]
    }
   ],
   "source": [
    "df_clean_original = pd.read_csv(INPUT_CLEAN_DATA_PATH)\n",
    "print(f\"Загружен исходный очищенный датасет: {INPUT_CLEAN_DATA_PATH}, размер: {df_clean_original.shape}\")\n",
    "\n",
    "df_labeled_annotator = pd.read_csv(LABELED_DATA_PATH)\n",
    "print(f\"Загружен размеченный аннотатором файл: {LABELED_DATA_PATH}, размер: {df_labeled_annotator.shape}\")\n",
    "\n",
    "if 'is_happy' not in df_labeled_annotator.columns:\n",
    "    raise ValueError(\"Колонка 'is_happy' от аннотатора не найдена.\")\n",
    "if not pd.api.types.is_numeric_dtype(df_labeled_annotator['is_happy']):\n",
    "    try:\n",
    "        df_labeled_annotator['is_happy'] = df_labeled_annotator['is_happy'].astype(int)\n",
    "    except ValueError:\n",
    "            raise TypeError(\"Тип данных 'is_happy' от аннотатора не числовой.\")\n",
    "if not df_labeled_annotator['is_happy'].isin([0, 1]).all():\n",
    "    raise ValueError(\"Значения 'is_happy' от аннотатора не 0 или 1.\")"
   ]
  },
  {
   "cell_type": "markdown",
   "metadata": {},
   "source": [
    "## Шаг 2: EDA разметки аннотатора\n",
    "\n",
    "Проанализируем распределение меток, проставленных аннотатором.\n",
    "Посмотрим, есть ли расхождения по регионам (если колонка `Regional indicator` существует).\n",
    "*Примечание: Так как у нас только один аннотатор, сравнение с другими или глубокий анализ расхождений затруднен.*"
   ]
  },
  {
   "cell_type": "code",
   "execution_count": 3,
   "metadata": {},
   "outputs": [
    {
     "name": "stdout",
     "output_type": "stream",
     "text": [
      "Распределение меток аннотатора:\n",
      "is_happy\n",
      "0    0.601307\n",
      "1    0.398693\n",
      "Name: proportion, dtype: float64\n"
     ]
    },
    {
     "name": "stderr",
     "output_type": "stream",
     "text": [
      "/var/folders/f6/chb_xqws4hj342hbxtjqschh0000gn/T/ipykernel_31857/410299217.py:7: FutureWarning: \n",
      "\n",
      "Passing `palette` without assigning `hue` is deprecated and will be removed in v0.14.0. Assign the `x` variable to `hue` and set `legend=False` for the same effect.\n",
      "\n",
      "  sns.countplot(x='is_happy', data=df_labeled_annotator, palette='viridis')\n"
     ]
    },
    {
     "data": {
      "image/png": "[encoded data removed]",
      "text/plain": [
       "<Figure size 600x400 with 1 Axes>"
      ]
     },
     "metadata": {},
     "output_type": "display_data"
    },
    {
     "name": "stdout",
     "output_type": "stream",
     "text": [
      "Колонка региона 'Regional indicator' не найдена, анализ по регионам пропущен.\n"
     ]
    }
   ],
   "source": [
    "if 'df_labeled_annotator' in locals():\n",
    "    print(\"Распределение меток аннотатора:\")\n",
    "    print(df_labeled_annotator['is_happy'].value_counts(normalize=True))\n",
    "\n",
    "    # Бар-чарт happy vs not happy\n",
    "    plt.figure(figsize=(6, 4))\n",
    "    sns.countplot(x='is_happy', data=df_labeled_annotator, palette='viridis')\n",
    "    plt.title('Распределение меток аннотатора (весь датасет)')\n",
    "    plt.xlabel('Метка is_happy')\n",
    "    plt.ylabel('Количество')\n",
    "    plt.xticks([0, 1], ['Not Happy (0)', 'Happy (1)'])\n",
    "    plt.savefig(os.path.join(FIGURES_DIR, 'annotator_labels_distribution_eda.png'))\n",
    "    plt.show()"
   ]
  },
  {
   "cell_type": "markdown",
   "metadata": {},
   "source": [
    "## Шаг 3: Подготовка финального датасета\n",
    "\n",
    "1.  **Создание \"истинной\" метки:** Берем исходный очищенный датасет `df_clean_original`, содержащий `Ladder score`, и создаем на его основе колонку `is_happy` по правилу `>= 6.0`.\n",
    "2.  **Очистка от контрольных примеров:** В файле, размеченном аннотатором (`df_labeled_annotator`), могли остаться дубликаты контрольных строк. Мы будем использовать исходный `df_clean_original` как основу, т.к. он не содержит контрольных дубликатов.\n",
    "3.  **Сохранение:** Сохраняем `df_clean_original` с добавленной колонкой `is_happy` в `../data/final_labeled.csv`."
   ]
  },
  {
   "cell_type": "code",
   "execution_count": 6,
   "metadata": {},
   "outputs": [
    {
     "name": "stdout",
     "output_type": "stream",
     "text": [
      "Создание финального датасета...\n",
      "Колонка 'is_happy' (на основе ladder >= 6.0) добавлена.\n",
      "Финальный размеченный датасет сохранен: ../data/final_labeled.csv\n",
      "Итоговый размер: (143, 7)\n",
      "Пример финального датасета:\n"
     ]
    },
    {
     "data": {
      "text/html": [
       "<div>\n",
       "<style scoped>\n",
       "    .dataframe tbody tr th:only-of-type {\n",
       "        vertical-align: middle;\n",
       "    }\n",
       "\n",
       "    .dataframe tbody tr th {\n",
       "        vertical-align: top;\n",
       "    }\n",
       "\n",
       "    .dataframe thead th {\n",
       "        text-align: right;\n",
       "    }\n",
       "</style>\n",
       "<table border=\"1\" class=\"dataframe\">\n",
       "  <thead>\n",
       "    <tr style=\"text-align: right;\">\n",
       "      <th></th>\n",
       "      <th>country</th>\n",
       "      <th>region</th>\n",
       "      <th>ladder</th>\n",
       "      <th>iso3</th>\n",
       "      <th>year</th>\n",
       "      <th>gdp</th>\n",
       "      <th>is_happy</th>\n",
       "    </tr>\n",
       "  </thead>\n",
       "  <tbody>\n",
       "    <tr>\n",
       "      <th>0</th>\n",
       "      <td>Finland</td>\n",
       "      <td>Western Europe</td>\n",
       "      <td>7.55864</td>\n",
       "      <td>FIN</td>\n",
       "      <td>2015.0</td>\n",
       "      <td>38923.0</td>\n",
       "      <td>1</td>\n",
       "    </tr>\n",
       "    <tr>\n",
       "      <th>1</th>\n",
       "      <td>Denmark</td>\n",
       "      <td>Western Europe</td>\n",
       "      <td>7.55864</td>\n",
       "      <td>DNK</td>\n",
       "      <td>2015.0</td>\n",
       "      <td>43495.0</td>\n",
       "      <td>1</td>\n",
       "    </tr>\n",
       "    <tr>\n",
       "      <th>2</th>\n",
       "      <td>Iceland</td>\n",
       "      <td>Western Europe</td>\n",
       "      <td>7.52500</td>\n",
       "      <td>ISL</td>\n",
       "      <td>2015.0</td>\n",
       "      <td>42182.0</td>\n",
       "      <td>1</td>\n",
       "    </tr>\n",
       "    <tr>\n",
       "      <th>3</th>\n",
       "      <td>Sweden</td>\n",
       "      <td>Western Europe</td>\n",
       "      <td>7.34400</td>\n",
       "      <td>SWE</td>\n",
       "      <td>2015.0</td>\n",
       "      <td>44892.0</td>\n",
       "      <td>1</td>\n",
       "    </tr>\n",
       "    <tr>\n",
       "      <th>4</th>\n",
       "      <td>Israel</td>\n",
       "      <td>Middle East and North Africa</td>\n",
       "      <td>7.34100</td>\n",
       "      <td>ISR</td>\n",
       "      <td>2015.0</td>\n",
       "      <td>31590.0</td>\n",
       "      <td>1</td>\n",
       "    </tr>\n",
       "  </tbody>\n",
       "</table>\n",
       "</div>"
      ],
      "text/plain": [
       "   country                        region   ladder iso3    year      gdp  \\\n",
       "0  Finland                Western Europe  7.55864  FIN  2015.0  38923.0   \n",
       "1  Denmark                Western Europe  7.55864  DNK  2015.0  43495.0   \n",
       "2  Iceland                Western Europe  7.52500  ISL  2015.0  42182.0   \n",
       "3   Sweden                Western Europe  7.34400  SWE  2015.0  44892.0   \n",
       "4   Israel  Middle East and North Africa  7.34100  ISR  2015.0  31590.0   \n",
       "\n",
       "   is_happy  \n",
       "0         1  \n",
       "1         1  \n",
       "2         1  \n",
       "3         1  \n",
       "4         1  "
      ]
     },
     "metadata": {},
     "output_type": "display_data"
    },
    {
     "name": "stdout",
     "output_type": "stream",
     "text": [
      "Распределение финальной метки 'is_happy':\n",
      "is_happy\n",
      "0    0.608392\n",
      "1    0.391608\n",
      "Name: proportion, dtype: float64\n"
     ]
    }
   ],
   "source": [
    "if 'df_clean_original' in locals():\n",
    "    print(\"Создание финального датасета...\")\n",
    "    df_final = df_clean_original.copy()\n",
    "\n",
    "    if 'ladder' in df_final.columns:\n",
    "        is_happy_condition = lambda score: score >= 6.0\n",
    "        df_final['is_happy'] = df_final['ladder'].apply(is_happy_condition).astype(int)\n",
    "        print(\"Колонка 'is_happy' (на основе ladder >= 6.0) добавлена.\")\n",
    "\n",
    "        initial_rows = len(df_final)\n",
    "        df_final.drop_duplicates(inplace=True)\n",
    "        if len(df_final) < initial_rows:\n",
    "            print(f\"Удалено {initial_rows - len(df_final)} дубликатов строк.\")\n",
    "\n",
    "        df_final.to_csv(FINAL_LABELED_DATA_PATH, index=False)\n",
    "        print(f\"Финальный размеченный датасет сохранен: {FINAL_LABELED_DATA_PATH}\")\n",
    "        print(f\"Итоговый размер: {df_final.shape}\")\n",
    "        print(\"Пример финального датасета:\")\n",
    "        display(df_final.head())\n",
    "        print(\"Распределение финальной метки 'is_happy':\")\n",
    "        print(df_final['is_happy'].value_counts(normalize=True))\n",
    "\n",
    "    else:\n",
    "        print(\"Ошибка: Колонка 'ladder' не найдена в df_clean_original. Невозможно создать финальную метку.\")\n",
    "\n",
    "else:\n",
    "     print(\"Ошибка: Исходный очищенный датасет не загружен.\")"
   ]
  },
  {
   "cell_type": "markdown",
   "metadata": {},
   "source": [
    "**Выводы:**\n",
    "* Финальный датасет `final_labeled.csv` содержит [кол-во] строк и [кол-во] колонок, включая целевую бинарную метку `is_happy`.\n",
    "* Данный датасет готов к использованию в Модуле 4 для обучения моделей."
   ]
  }
 ],
 "metadata": {
  "kernelspec": {
   "display_name": "Python 3",
   "language": "python",
   "name": "python3"
  },
  "language_info": {
   "codemirror_mode": {
    "name": "ipython",
    "version": 3
   },
   "file_extension": ".py",
   "mimetype": "text/x-python",
   "name": "python",
   "nbconvert_exporter": "python",
   "pygments_lexer": "ipython3",
   "version": "3.9.6"
  }
 },
 "nbformat": 4,
 "nbformat_minor": 4
}
