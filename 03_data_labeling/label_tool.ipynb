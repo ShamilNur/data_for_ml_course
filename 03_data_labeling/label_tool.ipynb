{
 "cells": [
  {
   "cell_type": "markdown",
   "metadata": {},
   "source": [
    "# Модуль 3: Инструмент разметки данных\n",
    "\n",
    "**Цель:** Подготовить данные для ручной разметки аннотатором,\n",
    "экспортировать их в CSV и затем проверить качество полученной разметки\n",
    "с использованием контрольных примеров и метрики Cohen's Kappa."
   ]
  },
  {
   "cell_type": "code",
   "execution_count": 1,
   "metadata": {},
   "outputs": [],
   "source": [
    "import pandas as pd\n",
    "import numpy as np\n",
    "import matplotlib.pyplot as plt\n",
    "import seaborn as sns\n",
    "from sklearn.metrics import cohen_kappa_score, confusion_matrix, classification_report\n",
    "import os\n",
    "\n",
    "from inject_tests import inject_test_cases\n",
    "\n",
    "pd.set_option('display.max_rows', 100)\n",
    "pd.set_option('display.max_columns', 100)\n",
    "sns.set(style=\"whitegrid\")\n",
    "np.random.seed(42)\n",
    "\n",
    "INPUT_CLEAN_DATA_PATH = '../data/clean_median_imputed_clip.csv'\n",
    "DATA_TO_LABEL_PATH = '../data/data_to_label.csv'\n",
    "LABELED_DATA_PATH = '../data/data_labeled.csv'\n",
    "FIGURES_DIR = 'figures'\n",
    "\n",
    "if not os.path.exists('../data'):\n",
    "    os.makedirs('../data')\n",
    "if not os.path.exists(FIGURES_DIR):\n",
    "    os.makedirs(FIGURES_DIR)"
   ]
  },
  {
   "cell_type": "markdown",
   "metadata": {},
   "source": [
    "## Шаг 1: Подготовка данных для разметки\n",
    "\n",
    "1. Загружаем очищенный датасет (`clean_median_imputed_clip.csv`).\n",
    "2. Добавляем 10 контрольных строк (5 \"счастливых\", 5 \"несчастливых\") с помощью `inject_tests.py`.\n",
    "3. Удаляем колонку `Ladder score`, чтобы аннотатор не мог ее использовать.\n",
    "4. Сохраняем результат в `data_to_label.csv`."
   ]
  },
  {
   "cell_type": "code",
   "execution_count": null,
   "metadata": {},
   "outputs": [
    {
     "name": "stdout",
     "output_type": "stream",
     "text": [
      "Загружен очищенный датасет: ../data/clean_median_imputed_clip.csv, размер: (143, 6)\n",
      "Добавлено 10 контрольных строк (5 позитивных, 5 негативных).\n",
      "Данные для разметки сохранены в: ../data/data_to_label.csv\n",
      "Количество строк для разметки: 153\n",
      "Пример данных для разметки:\n"
     ]
    },
    {
     "name": "stderr",
     "output_type": "stream",
     "text": [
      "/Users/nurkaevshamil/Documents/data_for_ml/data_for_ml_course/03_data_labeling/inject_tests.py:71: FutureWarning: Downcasting object dtype arrays on .fillna, .ffill, .bfill is deprecated and will change in a future version. Call result.infer_objects(copy=False) instead. To opt-in to the future behavior, set `pd.set_option('future.no_silent_downcasting', True)`\n",
      "  df_with_tests[\"__is_control\"] = df_with_tests[\"__is_control\"].fillna(False)\n"
     ]
    },
    {
     "data": {
      "text/html": [
       "<div>\n",
       "<style scoped>\n",
       "    .dataframe tbody tr th:only-of-type {\n",
       "        vertical-align: middle;\n",
       "    }\n",
       "\n",
       "    .dataframe tbody tr th {\n",
       "        vertical-align: top;\n",
       "    }\n",
       "\n",
       "    .dataframe thead th {\n",
       "        text-align: right;\n",
       "    }\n",
       "</style>\n",
       "<table border=\"1\" class=\"dataframe\">\n",
       "  <thead>\n",
       "    <tr style=\"text-align: right;\">\n",
       "      <th></th>\n",
       "      <th>country</th>\n",
       "      <th>region</th>\n",
       "      <th>iso3</th>\n",
       "      <th>year</th>\n",
       "      <th>gdp</th>\n",
       "    </tr>\n",
       "  </thead>\n",
       "  <tbody>\n",
       "    <tr>\n",
       "      <th>0</th>\n",
       "      <td>Algeria</td>\n",
       "      <td>Middle East and North Africa</td>\n",
       "      <td>DZA</td>\n",
       "      <td>2015.0</td>\n",
       "      <td>13434.0</td>\n",
       "    </tr>\n",
       "    <tr>\n",
       "      <th>1</th>\n",
       "      <td>Albania</td>\n",
       "      <td>Central and Eastern Europe</td>\n",
       "      <td>ALB</td>\n",
       "      <td>2015.0</td>\n",
       "      <td>10620.0</td>\n",
       "    </tr>\n",
       "    <tr>\n",
       "      <th>2</th>\n",
       "      <td>Turkiye</td>\n",
       "      <td>Middle East and North Africa</td>\n",
       "      <td>TUR</td>\n",
       "      <td>2015.0</td>\n",
       "      <td>19360.0</td>\n",
       "    </tr>\n",
       "    <tr>\n",
       "      <th>3</th>\n",
       "      <td>Benin</td>\n",
       "      <td>Sub-Saharan Africa</td>\n",
       "      <td>BEN</td>\n",
       "      <td>2015.0</td>\n",
       "      <td>1830.0</td>\n",
       "    </tr>\n",
       "    <tr>\n",
       "      <th>4</th>\n",
       "      <td>Singapore</td>\n",
       "      <td>Southeast Asia</td>\n",
       "      <td>SGP</td>\n",
       "      <td>2015.0</td>\n",
       "      <td>80794.0</td>\n",
       "    </tr>\n",
       "  </tbody>\n",
       "</table>\n",
       "</div>"
      ],
      "text/plain": [
       "     country                        region iso3    year      gdp\n",
       "0    Algeria  Middle East and North Africa  DZA  2015.0  13434.0\n",
       "1    Albania    Central and Eastern Europe  ALB  2015.0  10620.0\n",
       "2    Turkiye  Middle East and North Africa  TUR  2015.0  19360.0\n",
       "3      Benin            Sub-Saharan Africa  BEN  2015.0   1830.0\n",
       "4  Singapore                Southeast Asia  SGP  2015.0  80794.0"
      ]
     },
     "metadata": {},
     "output_type": "display_data"
    }
   ],
   "source": [
    "df_clean = pd.read_csv(INPUT_CLEAN_DATA_PATH)\n",
    "print(f\"Загружен очищенный датасет: {INPUT_CLEAN_DATA_PATH}, размер: {df_clean.shape}\")\n",
    "\n",
    "if 'ladder' not in df_clean.columns:\n",
    "    raise ValueError(\"'ladder' column not found in the input dataset. Cannot create test cases.\")\n",
    "\n",
    "is_happy_condition = lambda score: score >= 6.0\n",
    "\n",
    "df_for_labeling, test_mask_injected = inject_test_cases(\n",
    "    df_clean,\n",
    "    target_col='ladder',\n",
    "    condition_func=is_happy_condition,\n",
    "    n_positive=5,\n",
    "    n_negative=5,\n",
    "    random_state=42\n",
    ")\n",
    "\n",
    "columns_to_show = [col for col in df_for_labeling.columns if col not in ['ladder', '__test_id', '__is_control']]\n",
    "\n",
    "df_to_export = df_for_labeling[columns_to_show]\n",
    "\n",
    "df_to_export.to_csv(DATA_TO_LABEL_PATH, index=False)\n",
    "print(f\"Данные для разметки сохранены в: {DATA_TO_LABEL_PATH}\")\n",
    "print(f\"Количество строк для разметки: {len(df_to_export)}\")\n",
    "print(\"Пример данных для разметки:\")\n",
    "display(df_to_export.head())\n",
    "\n",
    "df_with_true_labels = df_for_labeling.copy()\n",
    "df_with_true_labels['__true_happy_label'] = df_with_true_labels['ladder'].apply(is_happy_condition).astype(int)"
   ]
  },
  {
   "cell_type": "markdown",
   "metadata": {},
   "source": [
    "## Шаг 2: Инструкция для аннотатора\n",
    "\n",
    "1.  Откройте файл `../data/data_to_label.csv`.\n",
    "2.  Ознакомьтесь с Техническим Заданием (`label_spec.md`).\n",
    "3.  Для каждой строки добавьте колонку `is_happy` и проставьте в ней `1` (если считаете страну счастливой) или `0` (если несчастливой), основываясь на вашем суждении и данных в других колонках.\n",
    "4.  **Важно:** Не оставляйте пропусков в колонке `is_happy`. Порядок строк должен быть сохранен.\n",
    "5.  Сохраните размеченный файл как `../data/data_labeled.csv`.\n",
    "\n",
    "---\n",
    "\n",
    "**<ОЖИДАНИЕ РАЗМЕТКИ>**\n",
    "\n",
    "---\n",
    "\n",
    "*После того как файл `../data/data_labeled.csv` будет создан аннотатором, выполните ячейки ниже.*"
   ]
  },
  {
   "cell_type": "markdown",
   "metadata": {},
   "source": [
    "## Шаг 3: Загрузка и проверка разметки аннотатора\n",
    "\n",
    "1. Загружаем файл `data_labeled.csv`.\n",
    "2. Проверяем наличие колонки `is_happy`, отсутствие в ней NaN и соответствие количества строк.\n",
    "3. Считаем согласованность разметки (Cohen's Kappa) на контрольных строках.\n",
    "4. Визуализируем распределение меток."
   ]
  },
  {
   "cell_type": "code",
   "execution_count": 4,
   "metadata": {},
   "outputs": [
    {
     "name": "stdout",
     "output_type": "stream",
     "text": [
      "Загружен размеченный файл: ../data/data_labeled.csv, размер: (153, 6)\n",
      "Cohen's Kappa на контрольных строках: 1.0000\n",
      "Ошибок на контрольных строках: 0 из 10 (0.00%)\n",
      "Матрица ошибок на контрольных строках (True vs Annotator):\n",
      "[[5 0]\n",
      " [0 5]]\n"
     ]
    },
    {
     "data": {
      "image/png": "[encoded data removed]",
      "text/plain": [
       "<Figure size 600x400 with 2 Axes>"
      ]
     },
     "metadata": {},
     "output_type": "display_data"
    },
    {
     "name": "stdout",
     "output_type": "stream",
     "text": [
      "Отчет по классификации на контрольных строках:\n",
      "               precision    recall  f1-score   support\n",
      "\n",
      "Not Happy (0)       1.00      1.00      1.00         5\n",
      "    Happy (1)       1.00      1.00      1.00         5\n",
      "\n",
      "     accuracy                           1.00        10\n",
      "    macro avg       1.00      1.00      1.00        10\n",
      " weighted avg       1.00      1.00      1.00        10\n",
      "\n"
     ]
    },
    {
     "name": "stderr",
     "output_type": "stream",
     "text": [
      "/var/folders/f6/chb_xqws4hj342hbxtjqschh0000gn/T/ipykernel_31370/1154227243.py:99: FutureWarning: \n",
      "\n",
      "Passing `palette` without assigning `hue` is deprecated and will be removed in v0.14.0. Assign the `x` variable to `hue` and set `legend=False` for the same effect.\n",
      "\n",
      "  sns.countplot(x='is_happy', data=df_labeled, palette='viridis')\n"
     ]
    },
    {
     "data": {
      "image/png": "[encoded data removed]",
      "text/plain": [
       "<Figure size 600x400 with 1 Axes>"
      ]
     },
     "metadata": {},
     "output_type": "display_data"
    }
   ],
   "source": [
    "df_labeled = pd.read_csv(LABELED_DATA_PATH)\n",
    "print(f\"Загружен размеченный файл: {LABELED_DATA_PATH}, размер: {df_labeled.shape}\")\n",
    "\n",
    "if 'is_happy' not in df_labeled.columns:\n",
    "    raise ValueError(\"Колонка 'is_happy' отсутствует в размеченном файле.\")\n",
    "if df_labeled['is_happy'].isnull().any():\n",
    "    raise ValueError(\"В колонке 'is_happy' присутствуют пропущенные значения (NaN).\")\n",
    "if not pd.api.types.is_numeric_dtype(df_labeled['is_happy']):\n",
    "    try:\n",
    "        df_labeled['is_happy'] = df_labeled['is_happy'].astype(int)\n",
    "    except ValueError:\n",
    "        raise TypeError(\"Тип данных колонки 'is_happy' не является числовым (ожидается 0 или 1).\")\n",
    "if not df_labeled['is_happy'].isin([0, 1]).all():\n",
    "    raise ValueError(\"Значения в колонке 'is_happy' должны быть только 0 или 1.\")\n",
    "\n",
    "\n",
    "if 'df_with_true_labels' not in locals():\n",
    "        df_clean_reloaded = pd.read_csv(INPUT_CLEAN_DATA_PATH)\n",
    "        df_for_labeling_reloaded, _ = inject_test_cases(\n",
    "            df_clean_reloaded, target_col='Ladder score', condition_func=lambda s: s >= 6.0, random_state=42\n",
    "        )\n",
    "        df_with_true_labels = df_for_labeling_reloaded.copy()\n",
    "        df_with_true_labels['__true_happy_label'] = df_with_true_labels['Ladder score'].apply(lambda s: s >= 6.0).astype(int)\n",
    "        print(\"Перезагружен исходный датасет с контрольными метками для проверки.\")\n",
    "\n",
    "\n",
    "if len(df_labeled) != len(df_with_true_labels):\n",
    "    print(f\"Предупреждение: Количество строк в размеченном файле ({len(df_labeled)}) не совпадает с ожидаемым ({len(df_with_true_labels)}). Возможны проблемы при расчете каппы.\")\n",
    "    kappa = np.nan\n",
    "    report = \"N/A (количество строк не совпадает)\"\n",
    "    errors_on_test = -1\n",
    "    total_test = -1\n",
    "\n",
    "else:\n",
    "    df_check = df_with_true_labels.copy()\n",
    "    df_check['annotator_label'] = df_labeled['is_happy'].values\n",
    "\n",
    "    control_rows = df_check[df_check['__is_control']].copy()\n",
    "\n",
    "    if control_rows.empty:\n",
    "        print(\"Не найдены контрольные строки для расчета каппы.\")\n",
    "        kappa = np.nan\n",
    "        report = \"N/A (контрольные строки не найдены)\"\n",
    "        errors_on_test = -1\n",
    "        total_test = -1\n",
    "    else:\n",
    "        true_control_labels = control_rows['__true_happy_label']\n",
    "        annotator_control_labels = control_rows['annotator_label']\n",
    "\n",
    "        # Cohen's Kappa\n",
    "        kappa = cohen_kappa_score(true_control_labels, annotator_control_labels)\n",
    "        print(f\"Cohen's Kappa на контрольных строках: {kappa:.4f}\")\n",
    "\n",
    "        # Подсчет ошибок на контрольных строках\n",
    "        errors_on_test = (true_control_labels != annotator_control_labels).sum()\n",
    "        total_test = len(control_rows)\n",
    "        error_rate = errors_on_test / total_test if total_test > 0 else 0\n",
    "        print(f\"Ошибок на контрольных строках: {errors_on_test} из {total_test} ({error_rate:.2%})\")\n",
    "\n",
    "        # Матрица ошибок и отчет\n",
    "        print(\"Матрица ошибок на контрольных строках (True vs Annotator):\")\n",
    "        cm = confusion_matrix(true_control_labels, annotator_control_labels)\n",
    "        print(cm)\n",
    "\n",
    "        # Визуализация матрицы ошибок\n",
    "        plt.figure(figsize=(6, 4))\n",
    "        sns.heatmap(cm, annot=True, fmt='d', cmap='Blues', xticklabels=[0, 1], yticklabels=[0, 1])\n",
    "        plt.xlabel('Predicted (Annotator)')\n",
    "        plt.ylabel('Actual (True)')\n",
    "        plt.title('Confusion Matrix on Control Samples')\n",
    "        plt.savefig(os.path.join(FIGURES_DIR, 'confusion_matrix_control.png'))\n",
    "        plt.show()\n",
    "\n",
    "\n",
    "        print(\"Отчет по классификации на контрольных строках:\")\n",
    "        report = classification_report(true_control_labels, annotator_control_labels, target_names=['Not Happy (0)', 'Happy (1)'])\n",
    "        print(report)\n",
    "\n",
    "        # Строки с ошибками на контрольных примерах\n",
    "        error_indices = control_rows.index[true_control_labels != annotator_control_labels]\n",
    "        if not error_indices.empty:\n",
    "            print(\"Примеры ошибок на контрольных строках:\")\n",
    "            display(control_rows.loc[error_indices, ['Country name', '__true_happy_label', 'annotator_label']])\n",
    "\n",
    "\n",
    "# Визуализация распределения меток аннотатора по всему датасету\n",
    "plt.figure(figsize=(6, 4))\n",
    "sns.countplot(x='is_happy', data=df_labeled, palette='viridis')\n",
    "plt.title('Распределение меток аннотатора (весь датасет)')\n",
    "plt.xlabel('Метка is_happy')\n",
    "plt.ylabel('Количество')\n",
    "plt.xticks([0, 1], ['Not Happy (0)', 'Happy (1)'])\n",
    "plt.savefig(os.path.join(FIGURES_DIR, 'annotator_labels_distribution.png'))\n",
    "plt.show()\n",
    "\n",
    "\n",
    "quality_metrics = {\n",
    "    'kappa': kappa if 'kappa' in locals() else np.nan,\n",
    "    'errors_on_test': errors_on_test if 'errors_on_test' in locals() else -1,\n",
    "    'total_test': total_test if 'total_test' in locals() else -1\n",
    "}"
   ]
  },
  {
   "cell_type": "markdown",
   "metadata": {},
   "source": [
    "**Выводы по качеству разметки:**\n",
    "* Cohen's Kappa = [значение] указывает на [интерпретация уровня согласованности: плохой, слабый, умеренный, хороший, отличный].\n",
    "* Процент ошибок на контрольных примерах = [значение]%.\n",
    "* [Дополнительные выводы на основе матрицы ошибок или конкретных примеров ошибок].\n",
    "\n",
    "*(Заполнить после выполнения ячейки выше)*"
   ]
  }
 ],
 "metadata": {
  "kernelspec": {
   "display_name": "Python 3",
   "language": "python",
   "name": "python3"
  },
  "language_info": {
   "codemirror_mode": {
    "name": "ipython",
    "version": 3
   },
   "file_extension": ".py",
   "mimetype": "text/x-python",
   "name": "python",
   "nbconvert_exporter": "python",
   "pygments_lexer": "ipython3",
   "version": "3.9.6"
  }
 },
 "nbformat": 4,
 "nbformat_minor": 4
}
