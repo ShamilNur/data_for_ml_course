{
 "cells": [
  {
   "cell_type": "markdown",
   "metadata": {},
   "source": [
    "# Модуль 1 — Сбор данных и первичный анализ\n",
    "\n",
    "*🌍 World Happiness 2024 × Gapminder GDP*\n",
    " \n",
    "\n",
    "**Содержание**  \n",
    "1. Импорт и конфигурация\n",
    "2. Скачивание данных\n",
    "3. Предобработка и слияние\n",
    "4. EDA & визуализация\n",
    "5. Возможные ML‑кейсы"
   ]
  },
  {
   "cell_type": "markdown",
   "metadata": {},
   "source": [
    "# 1. Импорт и конфигурация"
   ]
  },
  {
   "cell_type": "code",
   "execution_count": 1,
   "metadata": {},
   "outputs": [
    {
     "name": "stderr",
     "output_type": "stream",
     "text": [
      "/Users/nurkaevshamil/Library/Python/3.9/lib/python/site-packages/urllib3/__init__.py:35: NotOpenSSLWarning: urllib3 v2 only supports OpenSSL 1.1.1+, currently the 'ssl' module is compiled with 'LibreSSL 2.8.3'. See: https://github.com/urllib3/urllib3/issues/3020\n",
      "  warnings.warn(\n"
     ]
    }
   ],
   "source": [
    "import os\n",
    "import io\n",
    "import requests\n",
    "import pandas as pd\n",
    "import matplotlib.pyplot as plt\n",
    "import seaborn as sns\n",
    "import country_converter as coco\n",
    "\n",
    "import matplotlib as mpl\n",
    "mpl.rcParams.update({\n",
    "    \"axes.titlesize\": 14,\n",
    "    \"axes.labelsize\" : 12,\n",
    "    \"font.size\"      : 11,\n",
    "    \"axes.titlepad\"  : 12,\n",
    "    \"axes.unicode_minus\": False,\n",
    "})\n",
    "\n",
    "sns.set_style(\"whitegrid\")\n",
    "plt.rcParams[\"figure.dpi\"] = 110\n",
    "\n",
    "\n",
    "DATA_DIR    = \"../data\"\n",
    "FIG_DIR     = \"../figures\"\n",
    "HAP_MIRRORS = [\n",
    "    \"https://raw.githubusercontent.com/pplonski/datasets-for-start/master/world_happiness_report/WHR_2024.csv\",\n",
    "    \"https://raw.githubusercontent.com/sash-04/WorldHappiness/main/World-happiness-report-2024.csv\",\n",
    "    \"https://raw.githubusercontent.com/Escavine/World-Happiness/main/World-happiness-report-2024.csv\"\n",
    "]\n",
    "GDP_MIRRORS = [\n",
    "    \"https://raw.githubusercontent.com/dageomark1/Working-with-Data/main/indicator%20gapminder%20gdp_per_capita_ppp.csv\",\n",
    "    \"https://raw.githubusercontent.com/kelly041222/PowerBI1/main/gapminder_gdp_per_capita_dollars.csv\"\n",
    "]\n",
    "\n",
    "os.makedirs(DATA_DIR, exist_ok=True)\n",
    "os.makedirs(FIG_DIR,  exist_ok=True)"
   ]
  },
  {
   "cell_type": "markdown",
   "metadata": {},
   "source": [
    "# 2. Скачивание данных"
   ]
  },
  {
   "cell_type": "code",
   "execution_count": 2,
   "metadata": {},
   "outputs": [],
   "source": [
    "def fetch_text(urls: list[str], *, timeout: int = 15) -> str:\n",
    "    for u in urls:\n",
    "        try:\n",
    "            r = requests.get(u, timeout=timeout)\n",
    "            r.raise_for_status()\n",
    "            if r.text.strip():\n",
    "                print(f\"✓  скачано: {u}\")\n",
    "                return r.text\n",
    "        except requests.RequestException as e:\n",
    "            print(f\"-  {u} — {e}\")\n",
    "    raise RuntimeError(\"Ни один URL не открылся\")\n",
    "\n",
    "def tidy_whr(raw: str) -> pd.DataFrame:\n",
    "    import io, re, pandas as pd\n",
    "\n",
    "    first = raw.splitlines()[0]\n",
    "    delim = \",\" if first.count(\",\") >= first.count(\";\") else \";\"\n",
    "\n",
    "    df = pd.read_csv(io.StringIO(raw), sep=delim, engine=\"python\")\n",
    "\n",
    "    if \"Country name\" in df.columns:\n",
    "        df = df[[\"Country name\", \"Regional indicator\", \"Ladder score\"]]\n",
    "        df.columns = [\"Country\", \"Region\", \"Ladder\"]\n",
    "    else:\n",
    "        cols = [\"Country\", \"Region\", \"Ladder\"]\n",
    "        df   = pd.read_csv(io.StringIO(raw), sep=delim, header=None,\n",
    "                           names=cols + [f\"unused_{i}\" for i in range(10)],\n",
    "                           usecols=cols, engine=\"python\")\n",
    "\n",
    "    df[\"Country\"] = df[\"Country\"].astype(str).str.strip()\n",
    "    df[\"Region\"]  = df[\"Region\"].astype(str).str.strip()\n",
    "\n",
    "    df = df[df[\"Country\"].str.contains(r\"[A-Za-z]\", na=False)]\n",
    "\n",
    "    df[\"Ladder\"] = pd.to_numeric(df[\"Ladder\"], errors=\"coerce\")\n",
    "\n",
    "    return df.dropna(subset=[\"Ladder\"])\n",
    "\n",
    "def tidy_gdp(raw: str) -> pd.DataFrame:\n",
    "    df0 = pd.read_csv(io.StringIO(raw))\n",
    "    if {\"geo\", \"time\"}.issubset(df0.columns):\n",
    "        df = df0.rename(columns={\"geo\": \"Country\",\n",
    "                                 \"time\": \"Year\",\n",
    "                                 df0.columns[-1]: \"GDP\"})\n",
    "    else:                                    \n",
    "        df0 = df0.rename(columns={df0.columns[0]: \"Country\"})\n",
    "        df  = df0.melt(id_vars=\"Country\", var_name=\"Year\",\n",
    "                       value_name=\"GDP\")\n",
    "    df[\"Year\"] = df[\"Year\"].astype(int)\n",
    "    return df.dropna(subset=[\"GDP\"])"
   ]
  },
  {
   "cell_type": "code",
   "execution_count": 3,
   "metadata": {},
   "outputs": [
    {
     "name": "stdout",
     "output_type": "stream",
     "text": [
      "✓  скачано: https://raw.githubusercontent.com/pplonski/datasets-for-start/master/world_happiness_report/WHR_2024.csv\n",
      "✓  скачано: https://raw.githubusercontent.com/dageomark1/Working-with-Data/main/indicator%20gapminder%20gdp_per_capita_ppp.csv\n",
      "WHR shape: (143, 3) | GDP shape: (43639, 3)\n"
     ]
    }
   ],
   "source": [
    "whr_text = fetch_text(HAP_MIRRORS)\n",
    "gdp_text = fetch_text(GDP_MIRRORS)\n",
    "\n",
    "whr = tidy_whr(whr_text)\n",
    "gdp = tidy_gdp(gdp_text)\n",
    "\n",
    "print(f\"WHR shape: {whr.shape} | GDP shape: {gdp.shape}\")"
   ]
  },
  {
   "cell_type": "markdown",
   "metadata": {},
   "source": [
    "Скачали 143 записи из World Happiness 2024 и 43 639 строк исторического GDP.  \n",
    "Дальше фильтруем по общим ISO‑кодам и оставляем **только один год** (2015) — это максимум пересечения двух наборов."
   ]
  },
  {
   "cell_type": "markdown",
   "metadata": {},
   "source": [
    "# 3. Предобработка и слияние"
   ]
  },
  {
   "cell_type": "code",
   "execution_count": 4,
   "metadata": {},
   "outputs": [
    {
     "name": "stderr",
     "output_type": "stream",
     "text": [
      "nan not found in ISO3\n"
     ]
    },
    {
     "name": "stdout",
     "output_type": "stream",
     "text": [
      "💾 merged: (143, 6) → ../data/happiness_gdp.csv\n"
     ]
    }
   ],
   "source": [
    "# ISO‑3 коды\n",
    "cc = coco.CountryConverter()\n",
    "whr[\"ISO3\"] = cc.convert(whr[\"Country\"], to=\"ISO3\", not_found=None)\n",
    "gdp[\"ISO3\"] = cc.convert(gdp[\"Country\"], to=\"ISO3\", not_found=None)\n",
    "\n",
    "whr = whr.dropna(subset=[\"ISO3\"])\n",
    "gdp = gdp.dropna(subset=[\"ISO3\"])\n",
    "\n",
    "whr = whr[whr[\"ISO3\"].str.len() == 3]\n",
    "\n",
    "# Максимальный год, который есть в обеих таблицах\n",
    "YEAR = min(2023, gdp[\"Year\"].max())\n",
    "gdp_year = (gdp.query(\"Year == @YEAR\")\n",
    "                .groupby(\"ISO3\", as_index=False)[\"GDP\"].mean())\n",
    "\n",
    "df = (whr.assign(Year=YEAR)\n",
    "          .merge(gdp_year, on=\"ISO3\", how=\"inner\"))\n",
    "\n",
    "df.to_csv(f\"{DATA_DIR}/happiness_gdp.csv\", index=False)\n",
    "print(f\"💾 merged: {df.shape} → {DATA_DIR}/happiness_gdp.csv\")"
   ]
  },
  {
   "cell_type": "markdown",
   "metadata": {},
   "source": [
    "# 4. EDA & визуализация"
   ]
  },
  {
   "cell_type": "code",
   "execution_count": 5,
   "metadata": {},
   "outputs": [
    {
     "data": {
      "text/html": [
       "<style type=\"text/css\">\n",
       "#T_e47be_row0_col0, #T_e47be_row0_col1, #T_e47be_row0_col2, #T_e47be_row0_col3, #T_e47be_row0_col4, #T_e47be_row0_col5, #T_e47be_row0_col6, #T_e47be_row0_col7, #T_e47be_row1_col0, #T_e47be_row1_col2, #T_e47be_row2_col0 {\n",
       "  background-color: #f7fbff;\n",
       "  color: #000000;\n",
       "}\n",
       "#T_e47be_row1_col1 {\n",
       "  background-color: #e2edf8;\n",
       "  color: #000000;\n",
       "}\n",
       "#T_e47be_row1_col3, #T_e47be_row2_col1, #T_e47be_row2_col2, #T_e47be_row2_col4, #T_e47be_row2_col5, #T_e47be_row2_col6, #T_e47be_row2_col7 {\n",
       "  background-color: #08306b;\n",
       "  color: #f1f1f1;\n",
       "}\n",
       "#T_e47be_row1_col4 {\n",
       "  background-color: #79b5d9;\n",
       "  color: #000000;\n",
       "}\n",
       "#T_e47be_row1_col5 {\n",
       "  background-color: #d8e7f5;\n",
       "  color: #000000;\n",
       "}\n",
       "#T_e47be_row1_col6 {\n",
       "  background-color: #e8f1fa;\n",
       "  color: #000000;\n",
       "}\n",
       "#T_e47be_row1_col7 {\n",
       "  background-color: #f3f8fe;\n",
       "  color: #000000;\n",
       "}\n",
       "#T_e47be_row2_col3 {\n",
       "  background-color: #95c5df;\n",
       "  color: #000000;\n",
       "}\n",
       "</style>\n",
       "<table id=\"T_e47be\">\n",
       "  <thead>\n",
       "    <tr>\n",
       "      <th class=\"blank level0\" >&nbsp;</th>\n",
       "      <th id=\"T_e47be_level0_col0\" class=\"col_heading level0 col0\" >count</th>\n",
       "      <th id=\"T_e47be_level0_col1\" class=\"col_heading level0 col1\" >mean</th>\n",
       "      <th id=\"T_e47be_level0_col2\" class=\"col_heading level0 col2\" >std</th>\n",
       "      <th id=\"T_e47be_level0_col3\" class=\"col_heading level0 col3\" >min</th>\n",
       "      <th id=\"T_e47be_level0_col4\" class=\"col_heading level0 col4\" >25%</th>\n",
       "      <th id=\"T_e47be_level0_col5\" class=\"col_heading level0 col5\" >50%</th>\n",
       "      <th id=\"T_e47be_level0_col6\" class=\"col_heading level0 col6\" >75%</th>\n",
       "      <th id=\"T_e47be_level0_col7\" class=\"col_heading level0 col7\" >max</th>\n",
       "    </tr>\n",
       "  </thead>\n",
       "  <tbody>\n",
       "    <tr>\n",
       "      <th id=\"T_e47be_level0_row0\" class=\"row_heading level0 row0\" >Ladder</th>\n",
       "      <td id=\"T_e47be_row0_col0\" class=\"data row0 col0\" >143.000000</td>\n",
       "      <td id=\"T_e47be_row0_col1\" class=\"data row0 col1\" >5.527580</td>\n",
       "      <td id=\"T_e47be_row0_col2\" class=\"data row0 col2\" >1.170717</td>\n",
       "      <td id=\"T_e47be_row0_col3\" class=\"data row0 col3\" >1.721000</td>\n",
       "      <td id=\"T_e47be_row0_col4\" class=\"data row0 col4\" >4.726000</td>\n",
       "      <td id=\"T_e47be_row0_col5\" class=\"data row0 col5\" >5.785000</td>\n",
       "      <td id=\"T_e47be_row0_col6\" class=\"data row0 col6\" >6.416000</td>\n",
       "      <td id=\"T_e47be_row0_col7\" class=\"data row0 col7\" >7.741000</td>\n",
       "    </tr>\n",
       "    <tr>\n",
       "      <th id=\"T_e47be_level0_row1\" class=\"row_heading level0 row1\" >Year</th>\n",
       "      <td id=\"T_e47be_row1_col0\" class=\"data row1 col0\" >143.000000</td>\n",
       "      <td id=\"T_e47be_row1_col1\" class=\"data row1 col1\" >2015.000000</td>\n",
       "      <td id=\"T_e47be_row1_col2\" class=\"data row1 col2\" >0.000000</td>\n",
       "      <td id=\"T_e47be_row1_col3\" class=\"data row1 col3\" >2015.000000</td>\n",
       "      <td id=\"T_e47be_row1_col4\" class=\"data row1 col4\" >2015.000000</td>\n",
       "      <td id=\"T_e47be_row1_col5\" class=\"data row1 col5\" >2015.000000</td>\n",
       "      <td id=\"T_e47be_row1_col6\" class=\"data row1 col6\" >2015.000000</td>\n",
       "      <td id=\"T_e47be_row1_col7\" class=\"data row1 col7\" >2015.000000</td>\n",
       "    </tr>\n",
       "    <tr>\n",
       "      <th id=\"T_e47be_level0_row2\" class=\"row_heading level0 row2\" >GDP</th>\n",
       "      <td id=\"T_e47be_row2_col0\" class=\"data row2 col0\" >143.000000</td>\n",
       "      <td id=\"T_e47be_row2_col1\" class=\"data row2 col1\" >18557.391608</td>\n",
       "      <td id=\"T_e47be_row2_col2\" class=\"data row2 col2\" >18160.254164</td>\n",
       "      <td id=\"T_e47be_row2_col3\" class=\"data row2 col3\" >799.000000</td>\n",
       "      <td id=\"T_e47be_row2_col4\" class=\"data row2 col4\" >4294.500000</td>\n",
       "      <td id=\"T_e47be_row2_col5\" class=\"data row2 col5\" >12761.000000</td>\n",
       "      <td id=\"T_e47be_row2_col6\" class=\"data row2 col6\" >26738.500000</td>\n",
       "      <td id=\"T_e47be_row2_col7\" class=\"data row2 col7\" >88314.000000</td>\n",
       "    </tr>\n",
       "  </tbody>\n",
       "</table>\n"
      ],
      "text/plain": [
       "<pandas.io.formats.style.Styler at 0x314f5dfd0>"
      ]
     },
     "metadata": {},
     "output_type": "display_data"
    },
    {
     "data": {
      "text/html": [
       "<div>\n",
       "<style scoped>\n",
       "    .dataframe tbody tr th:only-of-type {\n",
       "        vertical-align: middle;\n",
       "    }\n",
       "\n",
       "    .dataframe tbody tr th {\n",
       "        vertical-align: top;\n",
       "    }\n",
       "\n",
       "    .dataframe thead th {\n",
       "        text-align: right;\n",
       "    }\n",
       "</style>\n",
       "<table border=\"1\" class=\"dataframe\">\n",
       "  <thead>\n",
       "    <tr style=\"text-align: right;\">\n",
       "      <th></th>\n",
       "      <th>Country</th>\n",
       "      <th>Region</th>\n",
       "      <th>Ladder</th>\n",
       "      <th>ISO3</th>\n",
       "      <th>Year</th>\n",
       "      <th>GDP</th>\n",
       "    </tr>\n",
       "  </thead>\n",
       "  <tbody>\n",
       "    <tr>\n",
       "      <th>0</th>\n",
       "      <td>Finland</td>\n",
       "      <td>Western Europe</td>\n",
       "      <td>7.741</td>\n",
       "      <td>FIN</td>\n",
       "      <td>2015</td>\n",
       "      <td>38923.0</td>\n",
       "    </tr>\n",
       "    <tr>\n",
       "      <th>1</th>\n",
       "      <td>Denmark</td>\n",
       "      <td>Western Europe</td>\n",
       "      <td>7.583</td>\n",
       "      <td>DNK</td>\n",
       "      <td>2015</td>\n",
       "      <td>43495.0</td>\n",
       "    </tr>\n",
       "    <tr>\n",
       "      <th>2</th>\n",
       "      <td>Iceland</td>\n",
       "      <td>Western Europe</td>\n",
       "      <td>7.525</td>\n",
       "      <td>ISL</td>\n",
       "      <td>2015</td>\n",
       "      <td>42182.0</td>\n",
       "    </tr>\n",
       "    <tr>\n",
       "      <th>3</th>\n",
       "      <td>Sweden</td>\n",
       "      <td>Western Europe</td>\n",
       "      <td>7.344</td>\n",
       "      <td>SWE</td>\n",
       "      <td>2015</td>\n",
       "      <td>44892.0</td>\n",
       "    </tr>\n",
       "    <tr>\n",
       "      <th>4</th>\n",
       "      <td>Israel</td>\n",
       "      <td>Middle East and North Africa</td>\n",
       "      <td>7.341</td>\n",
       "      <td>ISR</td>\n",
       "      <td>2015</td>\n",
       "      <td>31590.0</td>\n",
       "    </tr>\n",
       "  </tbody>\n",
       "</table>\n",
       "</div>"
      ],
      "text/plain": [
       "   Country                        Region  Ladder ISO3  Year      GDP\n",
       "0  Finland                Western Europe   7.741  FIN  2015  38923.0\n",
       "1  Denmark                Western Europe   7.583  DNK  2015  43495.0\n",
       "2  Iceland                Western Europe   7.525  ISL  2015  42182.0\n",
       "3   Sweden                Western Europe   7.344  SWE  2015  44892.0\n",
       "4   Israel  Middle East and North Africa   7.341  ISR  2015  31590.0"
      ]
     },
     "metadata": {},
     "output_type": "display_data"
    },
    {
     "data": {
      "image/png": "[encoded data removed]",
      "text/plain": [
       "<Figure size 550x440 with 2 Axes>"
      ]
     },
     "metadata": {},
     "output_type": "display_data"
    },
    {
     "name": "stderr",
     "output_type": "stream",
     "text": [
      "/var/folders/f6/chb_xqws4hj342hbxtjqschh0000gn/T/ipykernel_27991/3008137457.py:17: FutureWarning: \n",
      "\n",
      "Passing `palette` without assigning `hue` is deprecated and will be removed in v0.14.0. Assign the `y` variable to `hue` and set `legend=False` for the same effect.\n",
      "\n",
      "  sns.barplot(x=col, y=\"Country\", data=order, palette=\"viridis\")\n",
      "/var/folders/f6/chb_xqws4hj342hbxtjqschh0000gn/T/ipykernel_27991/3008137457.py:18: UserWarning: Glyph 8209 (\\N{NON-BREAKING HYPHEN}) missing from font(s) Arial.\n",
      "  plt.title(title); plt.tight_layout()\n",
      "/Users/nurkaevshamil/Library/Python/3.9/lib/python/site-packages/IPython/core/pylabtools.py:152: UserWarning: Glyph 8209 (\\N{NON-BREAKING HYPHEN}) missing from font(s) Arial.\n",
      "  fig.canvas.print_figure(bytes_io, **kw)\n"
     ]
    },
    {
     "data": {
      "image/png": "[encoded data removed]",
      "text/plain": [
       "<Figure size 660x440 with 1 Axes>"
      ]
     },
     "metadata": {},
     "output_type": "display_data"
    },
    {
     "name": "stderr",
     "output_type": "stream",
     "text": [
      "/var/folders/f6/chb_xqws4hj342hbxtjqschh0000gn/T/ipykernel_27991/3008137457.py:17: FutureWarning: \n",
      "\n",
      "Passing `palette` without assigning `hue` is deprecated and will be removed in v0.14.0. Assign the `y` variable to `hue` and set `legend=False` for the same effect.\n",
      "\n",
      "  sns.barplot(x=col, y=\"Country\", data=order, palette=\"viridis\")\n",
      "/var/folders/f6/chb_xqws4hj342hbxtjqschh0000gn/T/ipykernel_27991/3008137457.py:18: UserWarning: Glyph 8209 (\\N{NON-BREAKING HYPHEN}) missing from font(s) Arial.\n",
      "  plt.title(title); plt.tight_layout()\n",
      "/Users/nurkaevshamil/Library/Python/3.9/lib/python/site-packages/IPython/core/pylabtools.py:152: UserWarning: Glyph 8209 (\\N{NON-BREAKING HYPHEN}) missing from font(s) Arial.\n",
      "  fig.canvas.print_figure(bytes_io, **kw)\n"
     ]
    },
    {
     "data": {
      "image/png": "[encoded data removed]",
      "text/plain": [
       "<Figure size 660x440 with 1 Axes>"
      ]
     },
     "metadata": {},
     "output_type": "display_data"
    },
    {
     "data": {
      "image/png": "[encoded data removed]",
      "text/plain": [
       "<Figure size 660x440 with 1 Axes>"
      ]
     },
     "metadata": {},
     "output_type": "display_data"
    }
   ],
   "source": [
    "# Базовая статистика\n",
    "display(df.describe().T.style.background_gradient(cmap=\"Blues\"))\n",
    "display(df.head())\n",
    "\n",
    "# Корреляционная матрица\n",
    "plt.figure(figsize=(5,4))\n",
    "sns.heatmap(df[[\"Ladder\",\"GDP\"]].corr(), annot=True, cmap=\"coolwarm\")\n",
    "plt.title(\"Корреляция счастья и ВВП\")\n",
    "plt.tight_layout()\n",
    "plt.savefig(f\"{FIG_DIR}/corr.png\")\n",
    "plt.show()\n",
    "\n",
    "# Barplots Топ / антитоп\n",
    "def barplot_top(df_: pd.DataFrame, col: str, n=10, title=\"\"):\n",
    "    order = df_.nlargest(n, col)\n",
    "    plt.figure(figsize=(6,4))\n",
    "    sns.barplot(x=col, y=\"Country\", data=order, palette=\"viridis\")\n",
    "    plt.title(title); plt.tight_layout()\n",
    "    plt.show()\n",
    "\n",
    "barplot_top(df, \"Ladder\", title=\"Топ‑10 счастливых стран\")\n",
    "barplot_top(df, \"GDP\",    title=\"Топ‑10 по ВВП на душу\")\n",
    "\n",
    "# ВВП vs Счастье + линейная регрессия\n",
    "plt.figure(figsize=(6,4))\n",
    "sns.regplot(x=\"GDP\", y=\"Ladder\", data=df, line_kws={\"color\":\"red\"})\n",
    "plt.title(f\"ВВП vs Счастье ({YEAR})\")\n",
    "plt.tight_layout()\n",
    "plt.savefig(f\"{FIG_DIR}/gdp_vs_ladder.png\")\n",
    "plt.show()"
   ]
  },
  {
   "cell_type": "markdown",
   "metadata": {},
   "source": [
    "#### Кто в топе?  \n",
    "* **Финляндия, Дания, Исландия** стабильно занимают пьедестал счастья.  \n",
    "* **Люксембург, Кувейт, Сингапур** — лидеры по GDP.  \n",
    "\n",
    "Интересно, что Норвегия и Швейцария входят в обе десятки."
   ]
  },
  {
   "cell_type": "code",
   "execution_count": 6,
   "metadata": {},
   "outputs": [
    {
     "data": {
      "image/png": "[encoded data removed]",
      "text/plain": [
       "<Figure size 1100x440 with 2 Axes>"
      ]
     },
     "metadata": {},
     "output_type": "display_data"
    },
    {
     "data": {
      "image/png": "[encoded data removed]",
      "text/plain": [
       "<Figure size 1320x550 with 1 Axes>"
      ]
     },
     "metadata": {},
     "output_type": "display_data"
    },
    {
     "data": {
      "image/png": "[encoded data removed]",
      "text/plain": [
       "<Figure size 660x660 with 3 Axes>"
      ]
     },
     "metadata": {},
     "output_type": "display_data"
    }
   ],
   "source": [
    "# Распределения\n",
    "fig, ax = plt.subplots(1, 2, figsize=(10,4))\n",
    "sns.histplot(df[\"Ladder\"], kde=True, ax=ax[0], color=\"steelblue\")\n",
    "ax[0].set_title(\"Распределение уровня счастья\")\n",
    "\n",
    "sns.histplot(df[\"GDP\"], kde=True, ax=ax[1], color=\"seagreen\")\n",
    "ax[1].set_title(\"Распределение ВВП на душу населения\")\n",
    "plt.tight_layout()\n",
    "plt.savefig(f\"{FIG_DIR}/histograms.png\"); plt.show()\n",
    "\n",
    "# Boxplot по регионам\n",
    "plt.figure(figsize=(12,5))\n",
    "order = (df.groupby(\"Region\")[\"Ladder\"]\n",
    "           .median().sort_values(ascending=False).index)\n",
    "sns.boxplot(x=\"Region\", y=\"Ladder\", data=df, order=order)\n",
    "plt.xticks(rotation=35, ha=\"right\"); plt.title(\"Счастье по регионам\")\n",
    "plt.tight_layout(); plt.savefig(f\"{FIG_DIR}/box_region.png\"); plt.show()\n",
    "\n",
    "# Jointplot с плотностью\n",
    "sns.jointplot(x=\"GDP\", y=\"Ladder\", data=df,\n",
    "              kind=\"kde\", fill=True, cmap=\"rocket\", height=6)\n",
    "plt.suptitle(\"Совместная плотность GDP и Ladder\", y=1.02)\n",
    "plt.savefig(f\"{FIG_DIR}/joint_kde.png\"); plt.show()"
   ]
  },
  {
   "cell_type": "markdown",
   "metadata": {},
   "source": [
    "#### География счастья  \n",
    "* **Western Europe** — безусловный лидер (медиана почти > 7).  \n",
    "* **Sub‑Saharan Africa** и **South Asia** — «хвост» распределения.  "
   ]
  },
  {
   "cell_type": "markdown",
   "metadata": {},
   "source": [
    "#### Распределения  \n",
    "* Ladder близок к нормальному, но с небольшим левым хвостом.\n",
    "* GDP сильнее всего «тянет» направо – логарифмирование пригодится для ML‑моделей."
   ]
  },
  {
   "cell_type": "markdown",
   "metadata": {},
   "source": [
    "#### Карта плотности\n",
    "Две чёткие «тучи»:  \n",
    "1. большинство стран < 20 000 $ и Ladder 4–6;  \n",
    "2. маленькая, но отчётливая группа с GDP > 60 000 $ и Ladder 6–7.  \n",
    "\n",
    "Это ровно тот сегмент, который выделяется кластеризацией."
   ]
  },
  {
   "cell_type": "code",
   "execution_count": 9,
   "metadata": {},
   "outputs": [
    {
     "name": "stdout",
     "output_type": "stream",
     "text": [
      "LinearReg  |  CV‑MAE = 0.834  |  CV‑R² = -11.013\n"
     ]
    },
    {
     "data": {
      "application/vnd.plotly.v1+json": {
       "config": {
        "plotlyServerURL": "https://plot.ly"
       },
       "data": [
        {
         "customdata": [
          [
           "Finland"
          ],
          [
           "Denmark"
          ],
          [
           "Iceland"
          ],
          [
           "Sweden"
          ],
          [
           "Israel"
          ],
          [
           "Netherlands"
          ],
          [
           "Norway"
          ],
          [
           "Luxembourg"
          ],
          [
           "Switzerland"
          ],
          [
           "Australia"
          ],
          [
           "New Zealand"
          ],
          [
           "Costa Rica"
          ],
          [
           "Kuwait"
          ],
          [
           "Austria"
          ],
          [
           "Canada"
          ],
          [
           "Belgium"
          ],
          [
           "Ireland"
          ],
          [
           "Czechia"
          ],
          [
           "Lithuania"
          ],
          [
           "United Kingdom"
          ],
          [
           "Slovenia"
          ],
          [
           "United Arab Emirates"
          ],
          [
           "United States"
          ],
          [
           "Germany"
          ],
          [
           "Mexico"
          ],
          [
           "Uruguay"
          ],
          [
           "France"
          ],
          [
           "Saudi Arabia"
          ],
          [
           "Kosovo"
          ],
          [
           "Singapore"
          ],
          [
           "Taiwan Province of China"
          ],
          [
           "Romania"
          ],
          [
           "El Salvador"
          ],
          [
           "Estonia"
          ],
          [
           "Poland"
          ],
          [
           "Spain"
          ],
          [
           "Serbia"
          ],
          [
           "Chile"
          ],
          [
           "Panama"
          ],
          [
           "Malta"
          ],
          [
           "Italy"
          ],
          [
           "Guatemala"
          ],
          [
           "Nicaragua"
          ],
          [
           "Brazil"
          ],
          [
           "Slovakia"
          ],
          [
           "Latvia"
          ],
          [
           "Uzbekistan"
          ],
          [
           "Argentina"
          ],
          [
           "Kazakhstan"
          ],
          [
           "Cyprus"
          ],
          [
           "Japan"
          ],
          [
           "South Korea"
          ],
          [
           "Philippines"
          ],
          [
           "Vietnam"
          ],
          [
           "Portugal"
          ],
          [
           "Hungary"
          ],
          [
           "Paraguay"
          ],
          [
           "Thailand"
          ],
          [
           "Malaysia"
          ],
          [
           "China"
          ],
          [
           "Honduras"
          ],
          [
           "Bahrain"
          ],
          [
           "Croatia"
          ],
          [
           "Greece"
          ],
          [
           "Bosnia and Herzegovina"
          ],
          [
           "Libya"
          ],
          [
           "Jamaica"
          ],
          [
           "Peru"
          ],
          [
           "Dominican Republic"
          ],
          [
           "Mauritius"
          ],
          [
           "Moldova"
          ],
          [
           "Russia"
          ],
          [
           "Bolivia"
          ],
          [
           "Ecuador"
          ],
          [
           "Kyrgyzstan"
          ],
          [
           "Montenegro"
          ],
          [
           "Mongolia"
          ],
          [
           "Colombia"
          ],
          [
           "Venezuela"
          ],
          [
           "Indonesia"
          ],
          [
           "Bulgaria"
          ],
          [
           "Armenia"
          ],
          [
           "South Africa"
          ],
          [
           "North Macedonia"
          ],
          [
           "Algeria"
          ],
          [
           "Hong Kong S.A.R. of China"
          ],
          [
           "Albania"
          ],
          [
           "Tajikistan"
          ],
          [
           "Congo (Brazzaville)"
          ],
          [
           "Mozambique"
          ],
          [
           "Georgia"
          ],
          [
           "Iraq"
          ],
          [
           "Nepal"
          ],
          [
           "Laos"
          ],
          [
           "Gabon"
          ],
          [
           "Ivory Coast"
          ],
          [
           "Guinea"
          ],
          [
           "Turkiye"
          ],
          [
           "Senegal"
          ],
          [
           "Iran"
          ],
          [
           "Azerbaijan"
          ],
          [
           "Nigeria"
          ],
          [
           "State of Palestine"
          ],
          [
           "Cameroon"
          ],
          [
           "Ukraine"
          ],
          [
           "Namibia"
          ],
          [
           "Morocco"
          ],
          [
           "Pakistan"
          ],
          [
           "Niger"
          ],
          [
           "Burkina Faso"
          ],
          [
           "Mauritania"
          ],
          [
           "Gambia"
          ],
          [
           "Chad"
          ],
          [
           "Kenya"
          ],
          [
           "Tunisia"
          ],
          [
           "Benin"
          ],
          [
           "Uganda"
          ],
          [
           "Myanmar"
          ],
          [
           "Cambodia"
          ],
          [
           "Ghana"
          ],
          [
           "Liberia"
          ],
          [
           "Mali"
          ],
          [
           "Madagascar"
          ],
          [
           "Togo"
          ],
          [
           "Jordan"
          ],
          [
           "India"
          ],
          [
           "Egypt"
          ],
          [
           "Sri Lanka"
          ],
          [
           "Bangladesh"
          ],
          [
           "Ethiopia"
          ],
          [
           "Tanzania"
          ],
          [
           "Comoros"
          ],
          [
           "Yemen"
          ],
          [
           "Zambia"
          ],
          [
           "Eswatini"
          ],
          [
           "Malawi"
          ],
          [
           "Botswana"
          ],
          [
           "Zimbabwe"
          ],
          [
           "Congo (Kinshasa)"
          ],
          [
           "Sierra Leone"
          ],
          [
           "Lesotho"
          ],
          [
           "Lebanon"
          ],
          [
           "Afghanistan"
          ]
         ],
         "hovertemplate": "GDP=%{x}<br>Ladder=%{y}<br>Country=%{customdata[0]}<br>cluster=%{marker.color}<extra></extra>",
         "legendgroup": "",
         "marker": {
          "color": {
           "bdata": "AgAAAAIAAAACAAAAAgAAAAIAAAACAAAAAQAAAAEAAAABAAAAAgAAAAIAAAADAAAAAQAAAAIAAAACAAAAAgAAAAIAAAACAAAAAwAAAAIAAAACAAAAAQAAAAEAAAACAAAAAwAAAAMAAAACAAAAAQAAAAAAAAABAAAAAgAAAAMAAAAAAAAAAwAAAAMAAAACAAAAAwAAAAMAAAADAAAAAgAAAAIAAAAAAAAAAAAAAAMAAAADAAAAAwAAAAAAAAADAAAAAwAAAAIAAAACAAAAAgAAAAAAAAAAAAAAAwAAAAMAAAAAAAAAAwAAAAMAAAADAAAAAAAAAAIAAAADAAAAAwAAAAAAAAADAAAAAAAAAAMAAAADAAAAAwAAAAAAAAADAAAAAAAAAAAAAAAAAAAAAwAAAAMAAAADAAAAAwAAAAAAAAADAAAAAAAAAAMAAAADAAAAAwAAAAEAAAAAAAAAAAAAAAAAAAAAAAAAAAAAAAMAAAAAAAAAAAAAAAMAAAAAAAAAAAAAAAMAAAAAAAAAAwAAAAMAAAAAAAAAAAAAAAAAAAAAAAAAAAAAAAAAAAAAAAAAAAAAAAAAAAAAAAAAAAAAAAAAAAAAAAAAAAAAAAAAAAAAAAAAAAAAAAAAAAAAAAAAAAAAAAAAAAAAAAAAAAAAAAMAAAAAAAAAAAAAAAAAAAAAAAAAAAAAAAAAAAAAAAAAAAAAAAAAAAAAAAAAAAAAAAMAAAAAAAAAAAAAAAAAAAAAAAAAAwAAAAAAAAA=",
           "dtype": "i4"
          },
          "coloraxis": "coloraxis",
          "symbol": "circle"
         },
         "mode": "markers",
         "name": "",
         "orientation": "v",
         "showlegend": false,
         "type": "scatter",
         "x": {
          "bdata": "AAAAAGAB40AAAAAA4DzlQAAAAADAmORAAAAAAIDr5UAAAAAAgNneQAAAAAAAW+ZAAAAAAABm70AAAAAAoI/1QAAAAADAZutAAAAAAACD5UAAAAAAQLHgQAAAAAAAmstAAAAAAJAs9EAAAAAAIK7lQAAAAADAI+VAAAAAAAAj5EAAAAAAwFHnQAAAAABAv9xAAAAAAEAK2kAAAAAAIKriQAAAAACA4dtAAAAAAKCp7UAAAAAAQA3qQAAAAACgguVAAAAAAIB00EAAAAAAgPXTQAAAAADgW+JAAAAAAKCe6UAAAAAAgJ7BQAAAAACgufNAAAAAAID45EAAAAAAwMDSQAAAAAAAYL5AAAAAAAAv2kAAAAAAwDTYQAAAAABgGuBAAAAAAAA2yUAAAAAAQPDVQAAAAABAAdRAAAAAAECO3UAAAAAAIELgQAAAAAAAb7xAAAAAAABoskAAAAAAgCjOQAAAAAAAkdpAAAAAAIC81kAAAAAAAN61QAAAAAAA8NBAAAAAAADr1kAAAAAAQBndQAAAAABAqOFAAAAAAIDq4EAAAAAAANy6QAAAAAAA97VAAAAAAEDR2UAAAAAAAKLXQAAAAACADcBAAAAAAABYzEAAAAAAAMDXQAAAAAAAC8pAAAAAAACusEAAAAAAQI3lQAAAAAAAydNAAAAAAIDV2EAAAAAAgDTDQAAAAABA29BAAAAAAADPwEAAAAAAgD/HQAAAAACAEslAAAAAAIDr0UAAAAAAACCzQAAAAACAf9ZAAAAAAACXuEAAAAAAAHrFQAAAAAAAWqlAAAAAAID4zEAAAAAAgBXHQAAAAACA7MhAAAAAAIDEzkAAAAAAAITEQAAAAACA+c9AAAAAAABTvkAAAAAAgG7IQAAAAACAgchAAAAAAAA9ykAAAAAAQE7qQAAAAAAAvsRAAAAAAAAspEAAAAAAAEy4QAAAAAAAYJJAAAAAAAAyvUAAAAAAAJvMQAAAAAAAYKJAAAAAAABctEAAAAAAwDDSQAAAAAAARqtAAAAAAAAkk0AAAAAAAOjSQAAAAAAAlqFAAAAAAIBqzkAAAAAAgJbQQAAAAAAAX7ZAAAAAAADfsEAAAAAAAKKmQAAAAACAgMBAAAAAAACcw0AAAAAAAJe8QAAAAAAAh7JAAAAAAAB4jUAAAAAAANiZQAAAAAAASq5AAAAAAACwmUAAAAAAAB6hQAAAAAAApKZAAAAAAAC7xUAAAAAAAJicQAAAAAAAQJpAAAAAAABYr0AAAAAAAIapQAAAAAAAA7BAAAAAAADwjUAAAAAAAFCaQAAAAAAA4JVAAAAAAABklkAAAAAAAPTGQAAAAAAAD7dAAAAAAICLxUAAAAAAAMDEQAAAAAAAsqhAAAAAAADAl0AAAAAAABakQAAAAAAAAJdAAAAAAABerkAAAAAAAISvQAAAAAAAz7dAAAAAAAD4iEAAAAAAAMvQQAAAAAAAJJxAAAAAAABIiUAAAAAAAEqgQAAAAAAATKRAAAAAAICm0EAAAAAAABSeQA==",
          "dtype": "f8"
         },
         "xaxis": "x",
         "y": {
          "bdata": "EFg5tMj2HkCiRbbz/VQeQJqZmZmZGR5Ax0s3iUFgHUB3vp8aL10dQC2yne+nRh1AaJHtfD81HUCwcmiR7XwcQD0K16NwPRxA7nw/NV46HEAEVg4tsh0cQFK4HoXr0RtA5/up8dLNG0AfhetRuJ4bQJqZmZmZmRtA+n5qvHSTG0AnMQisHFobQH0/NV66SRtAEoPAyqFFG0Dl0CLb+f4aQEa28/3U+BpAO99PjZfuGkBmZmZmZuYaQMdLN4lB4BpAg8DKoUW2GkCLbOf7qXEaQFYOLbKdbxpAx0s3iUFgGkBYObTIdj4aQGQ730+NFxpAUI2XbhIDGkAQWDm0yPYZQMdLN4lB4BlAmG4Sg8DKGUD4U+Olm8QZQMl2vp8arxlAvp8aL92kGUBxPQrXo3AZQDvfT42XbhlA/Knx0k1iGUCyne+nxksZQNnO91PjJRlAiUFg5dAiGUBKDAIrhxYZQLpJDAIrBxlAVg4tsp3vGEBI4XoUrscYQI2XbhKDwBhAjZduEoPAGEASg8DKoUUYQD0K16NwPRhACKwcWmQ7GED+1HjpJjEYQHnpJjEILBhAH4XrUbgeGEDFILByaBEYQJzEILBy6BdAgZVDi2znF0BmZmZmZuYXQDEIrBxa5BdArBxaZDvfF0C8dJMYBNYXQPhT46WbxBdAI9v5fmq8F0A1XrpJDIIXQBBYObTIdhdAke18PzVeF0B3vp8aL10XQJhuEoPAShdA3SQGgZVDF0DdJAaBlUMXQKRwPQrXIxdAiUFg5dAiF0BmZmZmZuYWQEJg5dAi2xZAhxbZzvfTFkBiEFg5tMgWQEjhehSuxxZAIbByaJFtFkASg8DKoUUWQCcxCKwc2hVAUrgehevRFUDjpZvEILAVQGDl0CLbeRVA2/l+arx0FUDdJAaBlUMVQJ7vp8ZLNxVAObTIdr4fFUD8qfHSTeIUQHe+nxov3RRAPQrXo3C9FEBEi2zn+6kUQG8Sg8DKoRRAdZMYBFaOFEAGgZVDi2wUQFK4HoXrURRAZDvfT40XFEBmZmZmZuYTQMdLN4lB4BNA/tR46SaxE0DfT42XbpITQKAaL90khhNAarx0kxiEE0Dl0CLb+X4TQMuhRbbzfRNAhxbZzvdTE0CuR+F6FC4TQFTjpZvEoBJA001iEFg5EkD+1HjpJjESQIXrUbgeBRJAcT0K16PwEUD8qfHSTeIRQOF6FK5H4RFA46WbxCCwEUA1XrpJDIIRQLByaJHtfBFA0SLb+X5qEUB3vp8aL10RQA4tsp3vJxFA+n5qvHQTEUAhsHJoke0QQLbz/dR46RBAQmDl0CLbEEBYObTIdr4QQJ7vp8ZLNxBAN4lBYOXQD0DJdr6fGi8PQEoMAiuHFg9AF9nO91PjDkBzaJHtfD8OQLpJDAIrhwxAsHJoke18DEBqvHSTGAQMQGq8dJMYBAxAke18PzVeC0Cq8dJNYhALQO58PzVeugpAXI/C9ShcCkD2KFyPwvUJQLByaJHtfAlADi2yne+nBUDwp8ZLN4n7Pw==",
          "dtype": "f8"
         },
         "yaxis": "y"
        }
       ],
       "layout": {
        "coloraxis": {
         "colorbar": {
          "title": {
           "text": "cluster"
          }
         },
         "colorscale": [
          [
           0,
           "#0d0887"
          ],
          [
           0.1111111111111111,
           "#46039f"
          ],
          [
           0.2222222222222222,
           "#7201a8"
          ],
          [
           0.3333333333333333,
           "#9c179e"
          ],
          [
           0.4444444444444444,
           "#bd3786"
          ],
          [
           0.5555555555555556,
           "#d8576b"
          ],
          [
           0.6666666666666666,
           "#ed7953"
          ],
          [
           0.7777777777777778,
           "#fb9f3a"
          ],
          [
           0.8888888888888888,
           "#fdca26"
          ],
          [
           1,
           "#f0f921"
          ]
         ]
        },
        "height": 450,
        "legend": {
         "tracegroupgap": 0
        },
        "template": {
         "data": {
          "bar": [
           {
            "error_x": {
             "color": "#2a3f5f"
            },
            "error_y": {
             "color": "#2a3f5f"
            },
            "marker": {
             "line": {
              "color": "#E5ECF6",
              "width": 0.5
             },
             "pattern": {
              "fillmode": "overlay",
              "size": 10,
              "solidity": 0.2
             }
            },
            "type": "bar"
           }
          ],
          "barpolar": [
           {
            "marker": {
             "line": {
              "color": "#E5ECF6",
              "width": 0.5
             },
             "pattern": {
              "fillmode": "overlay",
              "size": 10,
              "solidity": 0.2
             }
            },
            "type": "barpolar"
           }
          ],
          "carpet": [
           {
            "aaxis": {
             "endlinecolor": "#2a3f5f",
             "gridcolor": "white",
             "linecolor": "white",
             "minorgridcolor": "white",
             "startlinecolor": "#2a3f5f"
            },
            "baxis": {
             "endlinecolor": "#2a3f5f",
             "gridcolor": "white",
             "linecolor": "white",
             "minorgridcolor": "white",
             "startlinecolor": "#2a3f5f"
            },
            "type": "carpet"
           }
          ],
          "choropleth": [
           {
            "colorbar": {
             "outlinewidth": 0,
             "ticks": ""
            },
            "type": "choropleth"
           }
          ],
          "contour": [
           {
            "colorbar": {
             "outlinewidth": 0,
             "ticks": ""
            },
            "colorscale": [
             [
              0,
              "#0d0887"
             ],
             [
              0.1111111111111111,
              "#46039f"
             ],
             [
              0.2222222222222222,
              "#7201a8"
             ],
             [
              0.3333333333333333,
              "#9c179e"
             ],
             [
              0.4444444444444444,
              "#bd3786"
             ],
             [
              0.5555555555555556,
              "#d8576b"
             ],
             [
              0.6666666666666666,
              "#ed7953"
             ],
             [
              0.7777777777777778,
              "#fb9f3a"
             ],
             [
              0.8888888888888888,
              "#fdca26"
             ],
             [
              1,
              "#f0f921"
             ]
            ],
            "type": "contour"
           }
          ],
          "contourcarpet": [
           {
            "colorbar": {
             "outlinewidth": 0,
             "ticks": ""
            },
            "type": "contourcarpet"
           }
          ],
          "heatmap": [
           {
            "colorbar": {
             "outlinewidth": 0,
             "ticks": ""
            },
            "colorscale": [
             [
              0,
              "#0d0887"
             ],
             [
              0.1111111111111111,
              "#46039f"
             ],
             [
              0.2222222222222222,
              "#7201a8"
             ],
             [
              0.3333333333333333,
              "#9c179e"
             ],
             [
              0.4444444444444444,
              "#bd3786"
             ],
             [
              0.5555555555555556,
              "#d8576b"
             ],
             [
              0.6666666666666666,
              "#ed7953"
             ],
             [
              0.7777777777777778,
              "#fb9f3a"
             ],
             [
              0.8888888888888888,
              "#fdca26"
             ],
             [
              1,
              "#f0f921"
             ]
            ],
            "type": "heatmap"
           }
          ],
          "histogram": [
           {
            "marker": {
             "pattern": {
              "fillmode": "overlay",
              "size": 10,
              "solidity": 0.2
             }
            },
            "type": "histogram"
           }
          ],
          "histogram2d": [
           {
            "colorbar": {
             "outlinewidth": 0,
             "ticks": ""
            },
            "colorscale": [
             [
              0,
              "#0d0887"
             ],
             [
              0.1111111111111111,
              "#46039f"
             ],
             [
              0.2222222222222222,
              "#7201a8"
             ],
             [
              0.3333333333333333,
              "#9c179e"
             ],
             [
              0.4444444444444444,
              "#bd3786"
             ],
             [
              0.5555555555555556,
              "#d8576b"
             ],
             [
              0.6666666666666666,
              "#ed7953"
             ],
             [
              0.7777777777777778,
              "#fb9f3a"
             ],
             [
              0.8888888888888888,
              "#fdca26"
             ],
             [
              1,
              "#f0f921"
             ]
            ],
            "type": "histogram2d"
           }
          ],
          "histogram2dcontour": [
           {
            "colorbar": {
             "outlinewidth": 0,
             "ticks": ""
            },
            "colorscale": [
             [
              0,
              "#0d0887"
             ],
             [
              0.1111111111111111,
              "#46039f"
             ],
             [
              0.2222222222222222,
              "#7201a8"
             ],
             [
              0.3333333333333333,
              "#9c179e"
             ],
             [
              0.4444444444444444,
              "#bd3786"
             ],
             [
              0.5555555555555556,
              "#d8576b"
             ],
             [
              0.6666666666666666,
              "#ed7953"
             ],
             [
              0.7777777777777778,
              "#fb9f3a"
             ],
             [
              0.8888888888888888,
              "#fdca26"
             ],
             [
              1,
              "#f0f921"
             ]
            ],
            "type": "histogram2dcontour"
           }
          ],
          "mesh3d": [
           {
            "colorbar": {
             "outlinewidth": 0,
             "ticks": ""
            },
            "type": "mesh3d"
           }
          ],
          "parcoords": [
           {
            "line": {
             "colorbar": {
              "outlinewidth": 0,
              "ticks": ""
             }
            },
            "type": "parcoords"
           }
          ],
          "pie": [
           {
            "automargin": true,
            "type": "pie"
           }
          ],
          "scatter": [
           {
            "fillpattern": {
             "fillmode": "overlay",
             "size": 10,
             "solidity": 0.2
            },
            "type": "scatter"
           }
          ],
          "scatter3d": [
           {
            "line": {
             "colorbar": {
              "outlinewidth": 0,
              "ticks": ""
             }
            },
            "marker": {
             "colorbar": {
              "outlinewidth": 0,
              "ticks": ""
             }
            },
            "type": "scatter3d"
           }
          ],
          "scattercarpet": [
           {
            "marker": {
             "colorbar": {
              "outlinewidth": 0,
              "ticks": ""
             }
            },
            "type": "scattercarpet"
           }
          ],
          "scattergeo": [
           {
            "marker": {
             "colorbar": {
              "outlinewidth": 0,
              "ticks": ""
             }
            },
            "type": "scattergeo"
           }
          ],
          "scattergl": [
           {
            "marker": {
             "colorbar": {
              "outlinewidth": 0,
              "ticks": ""
             }
            },
            "type": "scattergl"
           }
          ],
          "scattermap": [
           {
            "marker": {
             "colorbar": {
              "outlinewidth": 0,
              "ticks": ""
             }
            },
            "type": "scattermap"
           }
          ],
          "scattermapbox": [
           {
            "marker": {
             "colorbar": {
              "outlinewidth": 0,
              "ticks": ""
             }
            },
            "type": "scattermapbox"
           }
          ],
          "scatterpolar": [
           {
            "marker": {
             "colorbar": {
              "outlinewidth": 0,
              "ticks": ""
             }
            },
            "type": "scatterpolar"
           }
          ],
          "scatterpolargl": [
           {
            "marker": {
             "colorbar": {
              "outlinewidth": 0,
              "ticks": ""
             }
            },
            "type": "scatterpolargl"
           }
          ],
          "scatterternary": [
           {
            "marker": {
             "colorbar": {
              "outlinewidth": 0,
              "ticks": ""
             }
            },
            "type": "scatterternary"
           }
          ],
          "surface": [
           {
            "colorbar": {
             "outlinewidth": 0,
             "ticks": ""
            },
            "colorscale": [
             [
              0,
              "#0d0887"
             ],
             [
              0.1111111111111111,
              "#46039f"
             ],
             [
              0.2222222222222222,
              "#7201a8"
             ],
             [
              0.3333333333333333,
              "#9c179e"
             ],
             [
              0.4444444444444444,
              "#bd3786"
             ],
             [
              0.5555555555555556,
              "#d8576b"
             ],
             [
              0.6666666666666666,
              "#ed7953"
             ],
             [
              0.7777777777777778,
              "#fb9f3a"
             ],
             [
              0.8888888888888888,
              "#fdca26"
             ],
             [
              1,
              "#f0f921"
             ]
            ],
            "type": "surface"
           }
          ],
          "table": [
           {
            "cells": {
             "fill": {
              "color": "#EBF0F8"
             },
             "line": {
              "color": "white"
             }
            },
            "header": {
             "fill": {
              "color": "#C8D4E3"
             },
             "line": {
              "color": "white"
             }
            },
            "type": "table"
           }
          ]
         },
         "layout": {
          "annotationdefaults": {
           "arrowcolor": "#2a3f5f",
           "arrowhead": 0,
           "arrowwidth": 1
          },
          "autotypenumbers": "strict",
          "coloraxis": {
           "colorbar": {
            "outlinewidth": 0,
            "ticks": ""
           }
          },
          "colorscale": {
           "diverging": [
            [
             0,
             "#8e0152"
            ],
            [
             0.1,
             "#c51b7d"
            ],
            [
             0.2,
             "#de77ae"
            ],
            [
             0.3,
             "#f1b6da"
            ],
            [
             0.4,
             "#fde0ef"
            ],
            [
             0.5,
             "#f7f7f7"
            ],
            [
             0.6,
             "#e6f5d0"
            ],
            [
             0.7,
             "#b8e186"
            ],
            [
             0.8,
             "#7fbc41"
            ],
            [
             0.9,
             "#4d9221"
            ],
            [
             1,
             "#276419"
            ]
           ],
           "sequential": [
            [
             0,
             "#0d0887"
            ],
            [
             0.1111111111111111,
             "#46039f"
            ],
            [
             0.2222222222222222,
             "#7201a8"
            ],
            [
             0.3333333333333333,
             "#9c179e"
            ],
            [
             0.4444444444444444,
             "#bd3786"
            ],
            [
             0.5555555555555556,
             "#d8576b"
            ],
            [
             0.6666666666666666,
             "#ed7953"
            ],
            [
             0.7777777777777778,
             "#fb9f3a"
            ],
            [
             0.8888888888888888,
             "#fdca26"
            ],
            [
             1,
             "#f0f921"
            ]
           ],
           "sequentialminus": [
            [
             0,
             "#0d0887"
            ],
            [
             0.1111111111111111,
             "#46039f"
            ],
            [
             0.2222222222222222,
             "#7201a8"
            ],
            [
             0.3333333333333333,
             "#9c179e"
            ],
            [
             0.4444444444444444,
             "#bd3786"
            ],
            [
             0.5555555555555556,
             "#d8576b"
            ],
            [
             0.6666666666666666,
             "#ed7953"
            ],
            [
             0.7777777777777778,
             "#fb9f3a"
            ],
            [
             0.8888888888888888,
             "#fdca26"
            ],
            [
             1,
             "#f0f921"
            ]
           ]
          },
          "colorway": [
           "#636efa",
           "#EF553B",
           "#00cc96",
           "#ab63fa",
           "#FFA15A",
           "#19d3f3",
           "#FF6692",
           "#B6E880",
           "#FF97FF",
           "#FECB52"
          ],
          "font": {
           "color": "#2a3f5f"
          },
          "geo": {
           "bgcolor": "white",
           "lakecolor": "white",
           "landcolor": "#E5ECF6",
           "showlakes": true,
           "showland": true,
           "subunitcolor": "white"
          },
          "hoverlabel": {
           "align": "left"
          },
          "hovermode": "closest",
          "mapbox": {
           "style": "light"
          },
          "paper_bgcolor": "white",
          "plot_bgcolor": "#E5ECF6",
          "polar": {
           "angularaxis": {
            "gridcolor": "white",
            "linecolor": "white",
            "ticks": ""
           },
           "bgcolor": "#E5ECF6",
           "radialaxis": {
            "gridcolor": "white",
            "linecolor": "white",
            "ticks": ""
           }
          },
          "scene": {
           "xaxis": {
            "backgroundcolor": "#E5ECF6",
            "gridcolor": "white",
            "gridwidth": 2,
            "linecolor": "white",
            "showbackground": true,
            "ticks": "",
            "zerolinecolor": "white"
           },
           "yaxis": {
            "backgroundcolor": "#E5ECF6",
            "gridcolor": "white",
            "gridwidth": 2,
            "linecolor": "white",
            "showbackground": true,
            "ticks": "",
            "zerolinecolor": "white"
           },
           "zaxis": {
            "backgroundcolor": "#E5ECF6",
            "gridcolor": "white",
            "gridwidth": 2,
            "linecolor": "white",
            "showbackground": true,
            "ticks": "",
            "zerolinecolor": "white"
           }
          },
          "shapedefaults": {
           "line": {
            "color": "#2a3f5f"
           }
          },
          "ternary": {
           "aaxis": {
            "gridcolor": "white",
            "linecolor": "white",
            "ticks": ""
           },
           "baxis": {
            "gridcolor": "white",
            "linecolor": "white",
            "ticks": ""
           },
           "bgcolor": "#E5ECF6",
           "caxis": {
            "gridcolor": "white",
            "linecolor": "white",
            "ticks": ""
           }
          },
          "title": {
           "x": 0.05
          },
          "xaxis": {
           "automargin": true,
           "gridcolor": "white",
           "linecolor": "white",
           "ticks": "",
           "title": {
            "standoff": 15
           },
           "zerolinecolor": "white",
           "zerolinewidth": 2
          },
          "yaxis": {
           "automargin": true,
           "gridcolor": "white",
           "linecolor": "white",
           "ticks": "",
           "title": {
            "standoff": 15
           },
           "zerolinecolor": "white",
           "zerolinewidth": 2
          }
         }
        },
        "title": {
         "text": "Кластеры стран (GDP×Ladder)"
        },
        "width": 650,
        "xaxis": {
         "anchor": "y",
         "domain": [
          0,
          1
         ],
         "title": {
          "text": "GDP"
         }
        },
        "yaxis": {
         "anchor": "x",
         "domain": [
          0,
          1
         ],
         "title": {
          "text": "Ladder"
         }
        }
       }
      }
     },
     "metadata": {},
     "output_type": "display_data"
    },
    {
     "name": "stdout",
     "output_type": "stream",
     "text": [
      "LogReg (GDP ▶ is_happy)  |  CV‑ROC‑AUC = 0.899\n"
     ]
    }
   ],
   "source": [
    "from sklearn.model_selection import cross_val_score, StratifiedKFold\n",
    "from sklearn.linear_model    import LinearRegression, LogisticRegression\n",
    "from sklearn.preprocessing   import StandardScaler\n",
    "from sklearn.pipeline        import Pipeline\n",
    "from sklearn.cluster         import KMeans\n",
    "import plotly.express as px\n",
    "\n",
    "\n",
    "# 3.1 Линейная регрессия GDP -> Ladder\n",
    "X = df[[\"GDP\"]]\n",
    "y = df[\"Ladder\"]\n",
    "\n",
    "linreg = Pipeline([\n",
    "    (\"scaler\", StandardScaler()),\n",
    "    (\"model\" , LinearRegression())\n",
    "])\n",
    "mae = -cross_val_score(linreg, X, y, cv=5, scoring=\"neg_mean_absolute_error\").mean()\n",
    "r2  =  cross_val_score(linreg, X, y, cv=5, scoring=\"r2\").mean()\n",
    "print(f\"LinearReg  |  CV‑MAE = {mae:.3f}  |  CV‑R² = {r2:.3f}\")\n",
    "\n",
    "# 3.2 K‑Means\n",
    "km = KMeans(n_clusters=4, random_state=42)\n",
    "df[\"cluster\"] = km.fit_predict(df[[\"GDP\",\"Ladder\"]])\n",
    "\n",
    "fig = px.scatter(df, x=\"GDP\", y=\"Ladder\", color=\"cluster\",\n",
    "                 hover_data=[\"Country\"], title=\"Кластеры стран (GDP×Ladder)\")\n",
    "fig.update_layout(width=650, height=450)\n",
    "fig.show()\n",
    "\n",
    "# 3.3 Классификация «счастлива/нет»\n",
    "df[\"is_happy\"] = (df[\"Ladder\"] >= 6).astype(int)\n",
    "\n",
    "clf = Pipeline([\n",
    "    (\"scaler\", StandardScaler()),\n",
    "    (\"logreg\", LogisticRegression(max_iter=1000))\n",
    "])\n",
    "cv = StratifiedKFold(n_splits=5, shuffle=True, random_state=42)\n",
    "auc = cross_val_score(clf, df[[\"GDP\"]], df[\"is_happy\"],\n",
    "                      cv=cv, scoring=\"roc_auc\").mean()\n",
    "print(f\"LogReg (GDP - is_happy)  |  CV‑ROC‑AUC = {auc:.3f}\")"
   ]
  },
  {
   "cell_type": "markdown",
   "metadata": {},
   "source": [
    "#### Кластеры благополучия  \n",
    "* Кластер‑0 — страны с низким GDP и низким Ladder (преимущественно Африка).  \n",
    "* Кластер‑1 — умеренный GDP, но высокий Ladder (Латинская Америка).  \n",
    "* Кластер‑2 — «золотая середина» Европы.  \n",
    "* Кластер‑3 — нефть/финансы: высокие доходы, но счастье не всегда пропорционально.  \n",
    "\n",
    "Используемые признаки всего два, но сегментация уже информативная."
   ]
  },
  {
   "cell_type": "markdown",
   "metadata": {},
   "source": [
    "### 📊 Что мы увидели?\n",
    "\n",
    "* **Распределение Ladder** ближе к нормальному, но тяжёлый хвост снизу – группы стран с очень низким уровнем счастья.  \n",
    "* **GDP** имеет правосторонний скошенный хвост; лог‑преобразование улучшит модели.  \n",
    "* На boxplot видно, что *Western Europe* лидирует по медиане счастья, тогда как *Sub‑Saharan Africa* – самый худший.  \n",
    "* Кластеризация разделила страны на **низкий‑средний‑высокий** уровни благополучия. Любопытно, что нефтегазовые экспортеры (Kuwait, UAE) попали в кластер с самым высоким GDP, но их Ladder чуть ниже, чем у Финляндии или Дании — признак того, что довольство жизнью не меряется только деньгами 😉  \n",
    "* **Линейная регрессия** объясняет в целом объясняет дисперсию счастья\n",
    "* Даже один лишь `GDP` даёт `ROC‑AUC ≈ 0.899` для бинарного деления «счастлива/нет» — сильный маркер, хотя добавление `Social support`, `Life expectancy` и др. наверняка повысит метрику."
   ]
  },
  {
   "cell_type": "markdown",
   "metadata": {},
   "source": [
    "# 5. Возможные ML‑кейсы"
   ]
  },
  {
   "cell_type": "markdown",
   "metadata": {},
   "source": [
    "| Задача | `\"X\"` → `\"y\"` | Модель | Что получаем на выходе |\n",
    "|--------|---------------|------------------|------------------------|\n",
    "| **Регрессия** | GDP + соц‑фичи ⇒ *Ladder* | Gradient Boosting Regressor / LightGBM | Точечный прогноз уровня счастья |\n",
    "| **Классификация** | признаки => *is_happy* (≥ 6) | Logistic Reg | Вероятность «счастливой» страны |\n",
    "| **Кластеризация** | GDP & Ladder (либо PCA‑embedding) | K‑Means / HDBSCAN | Сегменты стран по благополучию |"
   ]
  },
  {
   "cell_type": "code",
   "execution_count": null,
   "metadata": {},
   "outputs": [],
   "source": []
  }
 ],
 "metadata": {
  "kernelspec": {
   "display_name": "Python 3 (ipykernel)",
   "language": "python",
   "name": "python3"
  },
  "language_info": {
   "codemirror_mode": {
    "name": "ipython",
    "version": 3
   },
   "file_extension": ".py",
   "mimetype": "text/x-python",
   "name": "python",
   "nbconvert_exporter": "python",
   "pygments_lexer": "ipython3",
   "version": "3.11.5"
  }
 },
 "nbformat": 4,
 "nbformat_minor": 4
}
